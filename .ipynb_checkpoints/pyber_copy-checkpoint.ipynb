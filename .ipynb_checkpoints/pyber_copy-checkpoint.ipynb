{
 "cells": [
  {
   "cell_type": "code",
   "execution_count": 6,
   "metadata": {},
   "outputs": [
    {
     "data": {
      "text/html": [
       "<div>\n",
       "<style scoped>\n",
       "    .dataframe tbody tr th:only-of-type {\n",
       "        vertical-align: middle;\n",
       "    }\n",
       "\n",
       "    .dataframe tbody tr th {\n",
       "        vertical-align: top;\n",
       "    }\n",
       "\n",
       "    .dataframe thead th {\n",
       "        text-align: right;\n",
       "    }\n",
       "</style>\n",
       "<table border=\"1\" class=\"dataframe\">\n",
       "  <thead>\n",
       "    <tr style=\"text-align: right;\">\n",
       "      <th></th>\n",
       "      <th>city</th>\n",
       "      <th>driver_count</th>\n",
       "      <th>type</th>\n",
       "      <th>date</th>\n",
       "      <th>fare</th>\n",
       "      <th>ride_id</th>\n",
       "    </tr>\n",
       "  </thead>\n",
       "  <tbody>\n",
       "    <tr>\n",
       "      <th>0</th>\n",
       "      <td>Richardfort</td>\n",
       "      <td>38</td>\n",
       "      <td>Urban</td>\n",
       "      <td>2018-02-24 08:40:38</td>\n",
       "      <td>13.93</td>\n",
       "      <td>5628545007794</td>\n",
       "    </tr>\n",
       "    <tr>\n",
       "      <th>1</th>\n",
       "      <td>Richardfort</td>\n",
       "      <td>38</td>\n",
       "      <td>Urban</td>\n",
       "      <td>2018-02-13 12:46:07</td>\n",
       "      <td>14.00</td>\n",
       "      <td>910050116494</td>\n",
       "    </tr>\n",
       "    <tr>\n",
       "      <th>2</th>\n",
       "      <td>Richardfort</td>\n",
       "      <td>38</td>\n",
       "      <td>Urban</td>\n",
       "      <td>2018-02-16 13:52:19</td>\n",
       "      <td>17.92</td>\n",
       "      <td>820639054416</td>\n",
       "    </tr>\n",
       "    <tr>\n",
       "      <th>3</th>\n",
       "      <td>Richardfort</td>\n",
       "      <td>38</td>\n",
       "      <td>Urban</td>\n",
       "      <td>2018-02-01 20:18:28</td>\n",
       "      <td>10.26</td>\n",
       "      <td>9554935945413</td>\n",
       "    </tr>\n",
       "    <tr>\n",
       "      <th>4</th>\n",
       "      <td>Richardfort</td>\n",
       "      <td>38</td>\n",
       "      <td>Urban</td>\n",
       "      <td>2018-04-17 02:26:37</td>\n",
       "      <td>23.00</td>\n",
       "      <td>720020655850</td>\n",
       "    </tr>\n",
       "  </tbody>\n",
       "</table>\n",
       "</div>"
      ],
      "text/plain": [
       "          city  driver_count   type                 date   fare        ride_id\n",
       "0  Richardfort            38  Urban  2018-02-24 08:40:38  13.93  5628545007794\n",
       "1  Richardfort            38  Urban  2018-02-13 12:46:07  14.00   910050116494\n",
       "2  Richardfort            38  Urban  2018-02-16 13:52:19  17.92   820639054416\n",
       "3  Richardfort            38  Urban  2018-02-01 20:18:28  10.26  9554935945413\n",
       "4  Richardfort            38  Urban  2018-04-17 02:26:37  23.00   720020655850"
      ]
     },
     "execution_count": 6,
     "metadata": {},
     "output_type": "execute_result"
    }
   ],
   "source": [
    "%matplotlib inline\n",
    "# Dependencies and Setup\n",
    "import matplotlib\n",
    "import matplotlib.pyplot as plt\n",
    "import pandas as pd\n",
    "import numpy as np\n",
    "\n",
    "# File to Load (Remember to change these)\n",
    "city_data_to_load = \"data/city_data.csv\"\n",
    "ride_data_to_load = \"data/ride_data.csv\"\n",
    "\n",
    "# Read the City and Ride Data\n",
    "city = pd.read_csv(city_data_to_load)\n",
    "ride = pd.read_csv(ride_data_to_load)\n",
    "\n",
    "# Combine the data into a single dataset\n",
    "city_ride = pd.merge(city, ride, on = 'city', how = 'outer')\n",
    "\n",
    "# Display the data table for preview\n",
    "city_ride.head()"
   ]
  },
  {
   "cell_type": "code",
   "execution_count": 8,
   "metadata": {
    "scrolled": true
   },
   "outputs": [
    {
     "data": {
      "text/html": [
       "<div>\n",
       "<style scoped>\n",
       "    .dataframe tbody tr th:only-of-type {\n",
       "        vertical-align: middle;\n",
       "    }\n",
       "\n",
       "    .dataframe tbody tr th {\n",
       "        vertical-align: top;\n",
       "    }\n",
       "\n",
       "    .dataframe thead th {\n",
       "        text-align: right;\n",
       "    }\n",
       "</style>\n",
       "<table border=\"1\" class=\"dataframe\">\n",
       "  <thead>\n",
       "    <tr style=\"text-align: right;\">\n",
       "      <th></th>\n",
       "      <th></th>\n",
       "      <th>driver_count</th>\n",
       "    </tr>\n",
       "    <tr>\n",
       "      <th>type</th>\n",
       "      <th>city</th>\n",
       "      <th></th>\n",
       "    </tr>\n",
       "  </thead>\n",
       "  <tbody>\n",
       "    <tr>\n",
       "      <th rowspan=\"5\" valign=\"top\">Rural</th>\n",
       "      <th>Bradshawfurt</th>\n",
       "      <td>7</td>\n",
       "    </tr>\n",
       "    <tr>\n",
       "      <th>Garzaport</th>\n",
       "      <td>7</td>\n",
       "    </tr>\n",
       "    <tr>\n",
       "      <th>Harringtonfort</th>\n",
       "      <td>4</td>\n",
       "    </tr>\n",
       "    <tr>\n",
       "      <th>Jessicaport</th>\n",
       "      <td>1</td>\n",
       "    </tr>\n",
       "    <tr>\n",
       "      <th>Lake Jamie</th>\n",
       "      <td>4</td>\n",
       "    </tr>\n",
       "  </tbody>\n",
       "</table>\n",
       "</div>"
      ],
      "text/plain": [
       "                      driver_count\n",
       "type  city                        \n",
       "Rural Bradshawfurt               7\n",
       "      Garzaport                  7\n",
       "      Harringtonfort             4\n",
       "      Jessicaport                1\n",
       "      Lake Jamie                 4"
      ]
     },
     "execution_count": 8,
     "metadata": {},
     "output_type": "execute_result"
    }
   ],
   "source": [
    "# Gets the count per city grouped by type and each city.\n",
    "driver_count_city = pd.DataFrame(city_ride.groupby(['type','city'])['driver_count'].mean())\n",
    "driver_count_city.head()"
   ]
  },
  {
   "cell_type": "code",
   "execution_count": 9,
   "metadata": {},
   "outputs": [
    {
     "data": {
      "image/png": "[encoded data removed]",
      "text/plain": [
       "<Figure size 432x288 with 1 Axes>"
      ]
     },
     "metadata": {},
     "output_type": "display_data"
    }
   ],
   "source": [
    "# Gets your types of cities in a sorted list\n",
    "city_types = list(sorted(set(city_ride['type'])))\n",
    "\n",
    "# Obtains dataframes for each city type and stores each data frame as a list\n",
    "city_type_df = [city_ride.loc[city_ride['type'] == citytype,:] for citytype in city_types]\n",
    "\n",
    "# Obtains your x and y coordinates for each city type and stores the data frames as a list   \n",
    "num_rides = [city_type.groupby('city')['ride_id'].count() for city_type in city_type_df]\n",
    "avg_rides = [city_type.groupby('city')['fare'].mean() for city_type in city_type_df]\n",
    "\n",
    "\n",
    "zero = 0\n",
    "colors = ['r','g','b']\n",
    "\n",
    "for x,y,z in zip(num_rides,avg_rides, colors):\n",
    "    for index in range(zero,len(city_types)):\n",
    "        plt.scatter(x, y, s= 10*driver_count_city, c = z, edgecolors = 'black',alpha = 0.6)\n",
    "        break\n",
    "    zero +=1\n",
    "\n",
    "# Incorporate the other graph properties\n",
    "plt.title('Pyber Ride Sharing Data (2018)')\n",
    "plt.ylabel('Average Fare ($)')\n",
    "plt.xlabel('Total # of Rides per City')\n",
    "\n",
    "\n",
    "# Create a legend\n",
    "plt.legend(labels = city_types, title = 'City Types', fontsize = 'small',markerscale = .25)\n",
    "\n",
    "# Save Figure\n",
    "plt.grid()\n",
    "plt.tight_layout()\n",
    "plt.savefig('Pyber_Scatterplot.png')\n",
    "plt.show()\n",
    "            \n",
    "\n"
   ]
  },
  {
   "cell_type": "code",
   "execution_count": null,
   "metadata": {},
   "outputs": [],
   "source": []
  },
  {
   "cell_type": "markdown",
   "metadata": {},
   "source": [
    "## Bubble Plot of Ride Sharing Data"
   ]
  },
  {
   "cell_type": "code",
   "execution_count": 4,
   "metadata": {
    "scrolled": true
   },
   "outputs": [],
   "source": [
    "# Gets the count per city grouped by type and each city.\n",
    "driver_count_city = pd.DataFrame(city_ride.groupby(['type','city'])['driver_count'].mean())\n",
    "driver_count_city.head()\n",
    "\n",
    "# Obtain the x and y coordinates for each of the three city types\n",
    "\n",
    "##### RURAL\n",
    "rural_df = city_ride.loc[city_ride['type'] == 'Rural',:]\n",
    "\n",
    "avg_rural = rural_df.groupby('city')['fare'].mean()\n",
    "rides_per_rural = rural_df.groupby('city')['ride_id'].count()\n",
    "\n",
    "##### SUBURBAN\n",
    "suburban_df = city_ride.loc[city_ride['type'] == 'Suburban',:]\n",
    "\n",
    "avg_suburban = suburban_df.groupby('city')['fare'].mean()\n",
    "rides_per_suburban = suburban_df.groupby('city')['ride_id'].count()\n",
    "\n",
    "##### URBAN\n",
    "urban_df = city_ride.loc[city_ride['type'] == 'Urban',:]\n",
    "\n",
    "avg_urban = urban_df.groupby('city')['fare'].mean()\n",
    "rides_per_urban = urban_df.groupby('city')['ride_id'].count()\n",
    "\n",
    "\n",
    "labels = ['Rural', 'Suburban','Urban']\n",
    "\n",
    "\n",
    "# Build the scatter plots for each city types\n",
    "plt.scatter(rides_per_rural,avg_rural, s= 10*driver_count_city, c = 'r', edgecolors = 'black',alpha = 0.6)\n",
    "plt.scatter(rides_per_suburban,avg_suburban, s=10*driver_count_city, c = 'g',edgecolors = 'black', alpha = 0.6)\n",
    "plt.scatter(rides_per_urban,avg_urban, s= 10*driver_count_city, c = 'b', edgecolors = 'black', alpha = 0.6)\n",
    "plt.title('Pyber Ride Sharing Data (2018)')\n",
    "plt.ylabel('Average Fare ($)')\n",
    "plt.xlabel('Total # of Rides per City')\n",
    "\n",
    "\n",
    "# Incorporate the other graph properties\n",
    "\n",
    "# Create a legend\n",
    "plt.legend(labels = labels, title = 'City Types', fontsize = 'small',markerscale = .25)\n",
    "# Incorporate a text label regarding circle size\n",
    "\n",
    "# Save Figure\n",
    "plt.grid()\n",
    "plt.tight_layout()\n",
    "plt.savefig('Pyber_Scatterplot.png')"
   ]
  },
  {
   "cell_type": "markdown",
   "metadata": {},
   "source": [
    "## Total Fares by City Type"
   ]
  },
  {
   "cell_type": "code",
   "execution_count": 5,
   "metadata": {},
   "outputs": [
    {
     "ename": "NameError",
     "evalue": "name 'rural_df' is not defined",
     "output_type": "error",
     "traceback": [
      "\u001b[1;31m---------------------------------------------------------------------------\u001b[0m",
      "\u001b[1;31mNameError\u001b[0m                                 Traceback (most recent call last)",
      "\u001b[1;32m<ipython-input-5-973390b5eaa1>\u001b[0m in \u001b[0;36m<module>\u001b[1;34m()\u001b[0m\n\u001b[0;32m      2\u001b[0m \u001b[0mtotal_fare\u001b[0m \u001b[1;33m=\u001b[0m \u001b[0mcity_ride\u001b[0m\u001b[1;33m[\u001b[0m\u001b[1;34m'fare'\u001b[0m\u001b[1;33m]\u001b[0m\u001b[1;33m.\u001b[0m\u001b[0msum\u001b[0m\u001b[1;33m(\u001b[0m\u001b[1;33m)\u001b[0m\u001b[1;33m\u001b[0m\u001b[0m\n\u001b[0;32m      3\u001b[0m \u001b[1;33m\u001b[0m\u001b[0m\n\u001b[1;32m----> 4\u001b[1;33m \u001b[0mrural_fare\u001b[0m \u001b[1;33m=\u001b[0m \u001b[0mround\u001b[0m\u001b[1;33m(\u001b[0m\u001b[0mrural_df\u001b[0m\u001b[1;33m[\u001b[0m\u001b[1;34m'fare'\u001b[0m\u001b[1;33m]\u001b[0m\u001b[1;33m.\u001b[0m\u001b[0msum\u001b[0m\u001b[1;33m(\u001b[0m\u001b[1;33m)\u001b[0m\u001b[1;33m/\u001b[0m\u001b[0mtotal_fare\u001b[0m\u001b[1;33m*\u001b[0m\u001b[1;36m100\u001b[0m\u001b[1;33m,\u001b[0m\u001b[1;36m2\u001b[0m\u001b[1;33m)\u001b[0m\u001b[1;33m\u001b[0m\u001b[0m\n\u001b[0m\u001b[0;32m      5\u001b[0m \u001b[0msuburban_fare\u001b[0m \u001b[1;33m=\u001b[0m \u001b[0mround\u001b[0m\u001b[1;33m(\u001b[0m\u001b[0msuburban_df\u001b[0m\u001b[1;33m[\u001b[0m\u001b[1;34m'fare'\u001b[0m\u001b[1;33m]\u001b[0m\u001b[1;33m.\u001b[0m\u001b[0msum\u001b[0m\u001b[1;33m(\u001b[0m\u001b[1;33m)\u001b[0m\u001b[1;33m/\u001b[0m\u001b[0mtotal_fare\u001b[0m\u001b[1;33m*\u001b[0m\u001b[1;36m100\u001b[0m\u001b[1;33m,\u001b[0m\u001b[1;36m2\u001b[0m\u001b[1;33m)\u001b[0m\u001b[1;33m\u001b[0m\u001b[0m\n\u001b[0;32m      6\u001b[0m \u001b[0murban_fare\u001b[0m \u001b[1;33m=\u001b[0m \u001b[0mround\u001b[0m\u001b[1;33m(\u001b[0m\u001b[0murban_df\u001b[0m\u001b[1;33m[\u001b[0m\u001b[1;34m'fare'\u001b[0m\u001b[1;33m]\u001b[0m\u001b[1;33m.\u001b[0m\u001b[0msum\u001b[0m\u001b[1;33m(\u001b[0m\u001b[1;33m)\u001b[0m\u001b[1;33m/\u001b[0m\u001b[0mtotal_fare\u001b[0m\u001b[1;33m*\u001b[0m\u001b[1;36m100\u001b[0m\u001b[1;33m,\u001b[0m\u001b[1;36m2\u001b[0m\u001b[1;33m)\u001b[0m\u001b[1;33m\u001b[0m\u001b[0m\n",
      "\u001b[1;31mNameError\u001b[0m: name 'rural_df' is not defined"
     ]
    }
   ],
   "source": [
    "# Calculate Type Percents\n",
    "total_fare = city_ride['fare'].sum()\n",
    "\n",
    "rural_fare = round(rural_df['fare'].sum()/total_fare*100,2)\n",
    "suburban_fare = round(suburban_df['fare'].sum()/total_fare*100,2)\n",
    "urban_fare = round(urban_df['fare'].sum()/total_fare*100,2)\n",
    "\n",
    "percentage_by_city = [rural_fare,suburban_fare, urban_fare]\n",
    "\n",
    "\n",
    "# Build Pie Chart\n",
    "explode = (0.05, 0.05, 0)\n",
    "colors = plt.cm.Paired(np.linspace(.01,4,25))\n",
    "labels2 = ['Urban', 'Suburban','Rural']\n",
    "\n",
    "plt.pie(sorted(percentage_by_city, reverse = True), labels = labels2, colors = colors, explode = explode, shadow = True, startangle = 270, autopct = '%1.1f%%')\n",
    "plt.title('Fares by City Type')\n",
    "\n",
    "\n",
    "# Save Figure\n",
    "plt.savefig('PyberPie_Fares_by_City.png')"
   ]
  },
  {
   "cell_type": "code",
   "execution_count": null,
   "metadata": {},
   "outputs": [],
   "source": [
    "# Show Figure\n",
    "plt.show()"
   ]
  },
  {
   "cell_type": "markdown",
   "metadata": {},
   "source": [
    "## Total Rides by City Type"
   ]
  },
  {
   "cell_type": "code",
   "execution_count": null,
   "metadata": {},
   "outputs": [],
   "source": [
    "# Calculate Ride Percents\n",
    "total_count = city_ride['ride_id'].count()\n",
    "\n",
    "# rural_rides = round(rural_df['ride_id'].count()/total_count*100,2)\n",
    "# suburban_rides = round(suburban_df['ride_id'].count()/total_count*100,2)\n",
    "# urban_rides = round(urban_df['ride_id'].count()/total_count*100,2)\n",
    "\n",
    "\n",
    "grouped = [rural_df, suburban_df, urban_df]\n",
    "valueslist = [round(df['ride_id'].count()/total_count*100,2) for df in mylist]\n",
    "\n",
    "valueslist\n",
    "\n",
    "explode = (0.05, 0.05, 0)\n",
    "colors = plt.cm.Paired(np.linspace(.01,4,25))\n",
    "labels2 = ['Urban', 'Suburban','Rural']\n",
    "\n",
    "plt.pie(sorted(percentage_by_city, reverse = True), labels = labels2, colors = colors, explode = explode, shadow = True, startangle = 270, autopct = '%1.1f%%')\n",
    "plt.title('Rides by City Type')\n",
    "\n",
    "\n",
    "    \n",
    "    \n",
    "\n",
    "# Build Pie Chart\n",
    "\n",
    "# Save Figure\n"
   ]
  },
  {
   "cell_type": "code",
   "execution_count": null,
   "metadata": {},
   "outputs": [],
   "source": [
    "# Show Figure\n",
    "plt.show()"
   ]
  },
  {
   "cell_type": "markdown",
   "metadata": {},
   "source": [
    "## Total Drivers by City Type"
   ]
  },
  {
   "cell_type": "code",
   "execution_count": null,
   "metadata": {},
   "outputs": [],
   "source": [
    "# Calculate Driver Percents\n",
    "\n",
    "# Build Pie Charts\n",
    "\n",
    "# Save Figure\n"
   ]
  },
  {
   "cell_type": "code",
   "execution_count": null,
   "metadata": {
    "scrolled": true
   },
   "outputs": [],
   "source": [
    "# Show Figure\n",
    "plt.show()"
   ]
  },
  {
   "cell_type": "code",
   "execution_count": null,
   "metadata": {},
   "outputs": [],
   "source": []
  }
 ],
 "metadata": {
  "anaconda-cloud": {},
  "kernelspec": {
   "display_name": "PythonData",
   "language": "python",
   "name": "pythondata"
  }
 },
 "nbformat": 4,
 "nbformat_minor": 2
}
